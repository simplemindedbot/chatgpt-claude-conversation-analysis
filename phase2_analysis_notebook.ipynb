{
 "cells": [
  {
   "metadata": {},
   "cell_type": "raw",
   "outputs": [],
   "execution_count": null,
   "source": [
    "{\n",
    " \"cells\": [\n",
    "  {\"cell_type\":\"markdown\",\"metadata\":{},\"source\":[\"# Phase 2 — Analysis Enablement Notebook\\n\",\"\\n\",\"This notebook brings together the Phase 2 features: topics, code snippet library, gap analysis, semantic search, and assistant optimization.\\n\",\"\\n\",\"Prerequisites:\\n\",\"- Run the pipeline to create chat_analysis.db: `python process_runner.py combined_ai_chat_history.csv`\\n\",\"- Ensure spaCy en_core_web_sm and NLTK VADER are installed per README/guidelines.\\n\"]},\n",
    "  {\"cell_type\":\"code\",\"metadata\":{},\"execution_count\":null,\"outputs\":[],\"source\":[\"# Setup\\n\",\"DB_PATH = 'chat_analysis.db'\\n\",\"\\n\",\"import os, sqlite3, json\\n\",\"import pandas as pd\\n\",\"from phase2_helpers import (\\n\",\"    upsert_code_snippets, build_simple_topics, create_gap_analysis_views,\\n\",\"    search_by_text, get_code_snippets, get_confusion_hotspots, assistant_comparison_summary\\n\",\")\\n\",\"from semantic_search_tool import SemanticSearchEngine\\n\",\"from advanced_data_mining import AdvancedChatMiner\\n\",\"\\n\",\"assert os.path.exists(DB_PATH), 'chat_analysis.db not found. Run process_runner.py first.'\\n\",\"print('Using DB:', DB_PATH)\"]},\n",
    "  {\"cell_type\":\"markdown\",\"metadata\":{},\"source\":[\"## 1) Build/Refresh Phase 2 Artifacts\\n\",\"- code_snippets table\\n\",\"- topics table (lightweight KMeans)\\n\",\"- helper SQL views for gap analysis\"]},\n",
    "  {\"cell_type\":\"code\",\"metadata\":{},\"execution_count\":null,\"outputs\":[],\"source\":[\"# Create/update helper SQL views\\n\",\"create_gap_analysis_views(DB_PATH)\\n\",\"\\n\",\"# Upsert code snippets from messages containing code\\n\",\"inserted = upsert_code_snippets(DB_PATH, limit=None)\\n\",\"print(f'Inserted code snippets: {inserted}')\\n\",\"\\n\",\"# Build simple topics using existing embeddings (skips if sklearn/embeddings unavailable)\\n\",\"topics_built = build_simple_topics(DB_PATH, n_clusters=12)\\n\",\"print('Topics built:', topics_built)\"]},\n",
    "  {\"cell_type\":\"markdown\",\"metadata\":{},\"source\":[\"## 2) Explore Topics\\n\",\"If the topics table exists, preview top keywords and representative messages.\"]},\n",
    "  {\"cell_type\":\"code\",\"metadata\":{},\"execution_count\":null,\"outputs\":[],\"source\":[\"conn = sqlite3.connect(DB_PATH)\\n\",\"try:\\n\",\"    topics_df = pd.read_sql_query('SELECT * FROM topics ORDER BY size DESC', conn)\\n\",\"    display(topics_df.head(10))\\n\",\"    # Join representative message preview\\n\",\"    if not topics_df.empty:\\n\",\"        reps = topics_df.dropna(subset=['representative_message_id']).head(5)['representative_message_id'].tolist()\\n\",\"        if reps:\\n\",\"            rep_df = pd.read_sql_query(\\n\",\"                'SELECT message_id, conversation_id, source_ai, substr(content,1,240) as preview FROM raw_conversations WHERE message_id IN (%s)' % ','.join(['?']*len(reps)),\\n\",\"                conn, params=reps)\\n\",\"            display(rep_df)\\n\",\"except Exception as e:\\n\",\"    print('Topics not available:', e)\"]},\n",
    "  {\"cell_type\":\"markdown\",\"metadata\":{},\"source\":[\"## 3) Semantic Search Demo\\n\",\"Enter a query to find semantically similar messages. Uses sqlite-vec if installed; falls back otherwise.\"]},\n",
    "  {\"cell_type\":\"code\",\"metadata\":{},\"execution_count\":null,\"outputs\":[],\"source\":[\"engine = SemanticSearchEngine(db_path=DB_PATH)\\n\",\"query = 'troubleshooting hdbscan build error on macos'\\n\",\"results = engine.semantic_search_vec(query, limit=5)\\n\",\"pd.DataFrame([\\n\",\"    {k: v for k, v in r.items() if k in ('source_ai','role','conversation_id','distance','content')}\\n\",\"    for r in results\\n\", \"])\\n\"]},\n",
    "  {\"cell_type\":\"markdown\",\"metadata\":{},\"source\":[\"## 4) Code Pattern Library\\n\",\"Retrieve code snippets by language or tag (technical term heuristic).\"]},\n",
    "  {\"cell_type\":\"code\",\"metadata\":{},\"execution_count\":null,\"outputs\":[],\"source\":[\"# By language\\n\",\"py_snippets = get_code_snippets(DB_PATH, language='python', limit=10)\\n\",\"display(py_snippets[['language','source_ai','sentiment_score','context_preview']].head())\\n\",\"\\n\",\"# By tag\\n\",\"sql_snippets = get_code_snippets(DB_PATH, tag='sqlite', limit=10)\\n\",\"display(sql_snippets[['language','source_ai','sentiment_score','context_preview']].head())\\n\"]},\n",
    "  {\"cell_type\":\"markdown\",\"metadata\":{},\"source\":[\"## 5) Learning Gap Analysis\\n\",\"Use helper views to surface messages with high question density and low sentiment.\"]},\n",
    "  {\"cell_type\":\"code\",\"metadata\":{},\"execution_count\":null,\"outputs\":[],\"source\":[\"confusion = get_confusion_hotspots(DB_PATH, limit=20)\\n\",\"display(confusion.head(10))\\n\",\"\\n\",\"conv_conf = pd.read_sql_query('SELECT * FROM view_conversation_confusion ORDER BY high_question_msgs DESC LIMIT 15', conn)\\n\",\"display(conv_conf)\"]},\n",
    "  {\"cell_type\":\"markdown\",\"metadata\":{},\"source\":[\"## 6) AI Assistant Optimization — Comparison\\n\",\"Compare ChatGPT vs Claude across key metrics and produce routing guidance.\"]},\n",
    "  {\"cell_type\":\"code\",\"metadata\":{},\"execution_count\":null,\"outputs\":[],\"source\":[\"summary = assistant_comparison_summary(DB_PATH)\\n\",\"summary_df = pd.DataFrame(summary).T\\n\",\"display(summary_df)\\n\",\"\\n\",\"# Optional: Deeper analysis via AdvancedChatMiner (skips heavy BERTopic if not installed)\\n\",\"miner = AdvancedChatMiner(DB_PATH)\\n\",\"conv_quality = miner.conversation_quality_mining(miner.load_data())\\n\",\"conv_quality.keys(), len(conv_quality)\\n\"]},\n",
    "  {\"cell_type\":\"markdown\",\"metadata\":{},\"source\":[\"### Routing Guidance (Draft)\\n\",\"- Prefer the assistant with higher average idea_density for brainstorming/ideation.\\n\",\"- Prefer the assistant with higher complexity_mean for deep technical tasks.\\n\",\"- For quick tasks, prefer the assistant with lower duration_mean.\\n\",\"\\n\",\"Use the table above to tailor routing to your dataset.\"]}\n",
    " ],\n",
    " \"metadata\": {\n",
    "  \"kernelspec\": {\n",
    "   \"display_name\": \"Python 3\",\n",
    "   \"language\": \"python\",\n",
    "   \"name\": \"python3\"\n",
    "  },\n",
    "  \"language_info\": {\n",
    "   \"name\": \"python\",\n",
    "   \"version\": \"3.10\"\n",
    "  }\n",
    " },\n",
    " \"nbformat\": 4,\n",
    " \"nbformat_minor\": 5\n",
    "}"
   ],
   "id": "e3a63c07c84beea8"
  }
 ],
 "metadata": {},
 "nbformat": 4,
 "nbformat_minor": 5
}
